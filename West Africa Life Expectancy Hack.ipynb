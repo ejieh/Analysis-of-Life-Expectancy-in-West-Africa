{
 "cells": [
  {
   "cell_type": "code",
   "execution_count": 1,
   "metadata": {
    "collapsed": true
   },
   "outputs": [],
   "source": [
    "%matplotlib inline"
   ]
  },
  {
   "cell_type": "code",
   "execution_count": 2,
   "metadata": {
    "collapsed": true
   },
   "outputs": [],
   "source": [
    "import pandas as pd\n",
    "import matplotlib.pyplot as plt\n",
    "import numpy as np\n",
    "from __future__ import division\n",
    "import plotly.plotly as py\n",
    "import plotly.graph_objs as go\n",
    "import cufflinks as cf\n",
    "from plotly import tools"
   ]
  },
  {
   "cell_type": "code",
   "execution_count": 3,
   "metadata": {
    "collapsed": false
   },
   "outputs": [],
   "source": [
    "plt.style.use('ggplot')\n"
   ]
  },
  {
   "cell_type": "markdown",
   "metadata": {},
   "source": [
    "#### This dataset contains the life expectancy of West African countries from 1960 to 2013. It was obtained from World Bank's databank."
   ]
  },
  {
   "cell_type": "code",
   "execution_count": 5,
   "metadata": {
    "collapsed": true
   },
   "outputs": [],
   "source": [
    "data = pd.read_csv('west_africa_le.csv')"
   ]
  },
  {
   "cell_type": "markdown",
   "metadata": {},
   "source": [
    "#### This is the schema and how th etop 5 rows look like"
   ]
  },
  {
   "cell_type": "code",
   "execution_count": 6,
   "metadata": {
    "collapsed": false
   },
   "outputs": [
    {
     "data": {
      "text/html": [
       "<div>\n",
       "<table border=\"1\" class=\"dataframe\">\n",
       "  <thead>\n",
       "    <tr style=\"text-align: right;\">\n",
       "      <th></th>\n",
       "      <th>Unnamed: 0</th>\n",
       "      <th>BEN</th>\n",
       "      <th>BFA</th>\n",
       "      <th>CMR</th>\n",
       "      <th>CIV</th>\n",
       "      <th>GAB</th>\n",
       "      <th>GHA</th>\n",
       "      <th>GIN</th>\n",
       "      <th>GNB</th>\n",
       "      <th>LBR</th>\n",
       "      <th>MLI</th>\n",
       "      <th>MRT</th>\n",
       "      <th>NGA</th>\n",
       "      <th>NER</th>\n",
       "      <th>STP</th>\n",
       "      <th>SLE</th>\n",
       "      <th>CPV</th>\n",
       "      <th>GMB</th>\n",
       "      <th>TGO</th>\n",
       "    </tr>\n",
       "  </thead>\n",
       "  <tbody>\n",
       "    <tr>\n",
       "      <th>0</th>\n",
       "      <td>YR1960</td>\n",
       "      <td>37.278268</td>\n",
       "      <td>34.477902</td>\n",
       "      <td>41.523756</td>\n",
       "      <td>36.872415</td>\n",
       "      <td>39.570122</td>\n",
       "      <td>45.831463</td>\n",
       "      <td>34.886390</td>\n",
       "      <td>37.840439</td>\n",
       "      <td>34.783171</td>\n",
       "      <td>28.211610</td>\n",
       "      <td>43.483098</td>\n",
       "      <td>37.182951</td>\n",
       "      <td>35.515049</td>\n",
       "      <td>50.451366</td>\n",
       "      <td>30.331537</td>\n",
       "      <td>48.856415</td>\n",
       "      <td>32.042220</td>\n",
       "      <td>40.272829</td>\n",
       "    </tr>\n",
       "    <tr>\n",
       "      <th>1</th>\n",
       "      <td>YR1961</td>\n",
       "      <td>37.731195</td>\n",
       "      <td>34.938634</td>\n",
       "      <td>41.965341</td>\n",
       "      <td>37.563073</td>\n",
       "      <td>39.928049</td>\n",
       "      <td>46.266707</td>\n",
       "      <td>35.081122</td>\n",
       "      <td>38.143293</td>\n",
       "      <td>35.046268</td>\n",
       "      <td>28.358732</td>\n",
       "      <td>44.163927</td>\n",
       "      <td>37.638268</td>\n",
       "      <td>35.594268</td>\n",
       "      <td>51.031098</td>\n",
       "      <td>30.540439</td>\n",
       "      <td>49.045976</td>\n",
       "      <td>32.325634</td>\n",
       "      <td>40.916488</td>\n",
       "    </tr>\n",
       "    <tr>\n",
       "      <th>2</th>\n",
       "      <td>YR1962</td>\n",
       "      <td>38.189415</td>\n",
       "      <td>35.405878</td>\n",
       "      <td>42.405951</td>\n",
       "      <td>38.233829</td>\n",
       "      <td>40.374000</td>\n",
       "      <td>46.682537</td>\n",
       "      <td>35.260390</td>\n",
       "      <td>38.467220</td>\n",
       "      <td>35.354122</td>\n",
       "      <td>28.548463</td>\n",
       "      <td>44.825220</td>\n",
       "      <td>38.079073</td>\n",
       "      <td>35.665463</td>\n",
       "      <td>51.597293</td>\n",
       "      <td>30.752780</td>\n",
       "      <td>49.316512</td>\n",
       "      <td>32.661098</td>\n",
       "      <td>41.555098</td>\n",
       "    </tr>\n",
       "    <tr>\n",
       "      <th>3</th>\n",
       "      <td>YR1963</td>\n",
       "      <td>38.657341</td>\n",
       "      <td>35.879659</td>\n",
       "      <td>42.843561</td>\n",
       "      <td>38.880171</td>\n",
       "      <td>40.924951</td>\n",
       "      <td>47.078439</td>\n",
       "      <td>35.425171</td>\n",
       "      <td>38.813707</td>\n",
       "      <td>35.715220</td>\n",
       "      <td>28.796390</td>\n",
       "      <td>45.460024</td>\n",
       "      <td>38.499854</td>\n",
       "      <td>35.729634</td>\n",
       "      <td>52.146000</td>\n",
       "      <td>30.977561</td>\n",
       "      <td>49.680512</td>\n",
       "      <td>33.062098</td>\n",
       "      <td>42.189171</td>\n",
       "    </tr>\n",
       "    <tr>\n",
       "      <th>4</th>\n",
       "      <td>YR1964</td>\n",
       "      <td>39.136854</td>\n",
       "      <td>36.358951</td>\n",
       "      <td>43.278659</td>\n",
       "      <td>39.505098</td>\n",
       "      <td>41.585415</td>\n",
       "      <td>47.453366</td>\n",
       "      <td>35.580927</td>\n",
       "      <td>39.181268</td>\n",
       "      <td>36.130000</td>\n",
       "      <td>29.111049</td>\n",
       "      <td>46.062341</td>\n",
       "      <td>38.899122</td>\n",
       "      <td>35.787805</td>\n",
       "      <td>52.674756</td>\n",
       "      <td>31.230390</td>\n",
       "      <td>50.139000</td>\n",
       "      <td>33.537634</td>\n",
       "      <td>42.819220</td>\n",
       "    </tr>\n",
       "  </tbody>\n",
       "</table>\n",
       "</div>"
      ],
      "text/plain": [
       "  Unnamed: 0        BEN        BFA        CMR        CIV        GAB  \\\n",
       "0     YR1960  37.278268  34.477902  41.523756  36.872415  39.570122   \n",
       "1     YR1961  37.731195  34.938634  41.965341  37.563073  39.928049   \n",
       "2     YR1962  38.189415  35.405878  42.405951  38.233829  40.374000   \n",
       "3     YR1963  38.657341  35.879659  42.843561  38.880171  40.924951   \n",
       "4     YR1964  39.136854  36.358951  43.278659  39.505098  41.585415   \n",
       "\n",
       "         GHA        GIN        GNB        LBR        MLI        MRT  \\\n",
       "0  45.831463  34.886390  37.840439  34.783171  28.211610  43.483098   \n",
       "1  46.266707  35.081122  38.143293  35.046268  28.358732  44.163927   \n",
       "2  46.682537  35.260390  38.467220  35.354122  28.548463  44.825220   \n",
       "3  47.078439  35.425171  38.813707  35.715220  28.796390  45.460024   \n",
       "4  47.453366  35.580927  39.181268  36.130000  29.111049  46.062341   \n",
       "\n",
       "         NGA        NER        STP        SLE        CPV        GMB        TGO  \n",
       "0  37.182951  35.515049  50.451366  30.331537  48.856415  32.042220  40.272829  \n",
       "1  37.638268  35.594268  51.031098  30.540439  49.045976  32.325634  40.916488  \n",
       "2  38.079073  35.665463  51.597293  30.752780  49.316512  32.661098  41.555098  \n",
       "3  38.499854  35.729634  52.146000  30.977561  49.680512  33.062098  42.189171  \n",
       "4  38.899122  35.787805  52.674756  31.230390  50.139000  33.537634  42.819220  "
      ]
     },
     "execution_count": 6,
     "metadata": {},
     "output_type": "execute_result"
    }
   ],
   "source": [
    "data.head()"
   ]
  },
  {
   "cell_type": "code",
   "execution_count": 7,
   "metadata": {
    "collapsed": true
   },
   "outputs": [],
   "source": [
    "#change first column header to \"years\"\n",
    "data.rename(columns={'Unnamed: 0': 'years'}, inplace=True)"
   ]
  },
  {
   "cell_type": "markdown",
   "metadata": {},
   "source": [
    "#### Basic line plot of the data against the years to see if anything stands out"
   ]
  },
  {
   "cell_type": "code",
   "execution_count": 43,
   "metadata": {
    "collapsed": false
   },
   "outputs": [
    {
     "data": {
      "text/html": [
       "<iframe id=\"igraph\" scrolling=\"no\" style=\"border:none;\" seamless=\"seamless\" src=\"https://plot.ly/~chux/22.embed\" height=\"750px\" width=\"1000px\"></iframe>"
      ],
      "text/plain": [
       "<plotly.tools.PlotlyDisplay object>"
      ]
     },
     "execution_count": 43,
     "metadata": {},
     "output_type": "execute_result"
    }
   ],
   "source": [
    "data.iplot(kind='scatter', x='years', dimensions=(1000,750), yTitle='Age in Years')"
   ]
  },
  {
   "cell_type": "markdown",
   "metadata": {
    "collapsed": false
   },
   "source": [
    "#### Looks like in Life expectancy in West Africa countries has increased since 1960. Although, there are some downward slopes and flat lines in the middle for some countries. Sierra Leone is the outlier in red that you can easily spot. We will explore that after we find out the range of years that each country experienced the largest growth."
   ]
  },
  {
   "cell_type": "code",
   "execution_count": 11,
   "metadata": {
    "collapsed": true
   },
   "outputs": [],
   "source": [
    "# this function takes in a duration of years and outputs the top 3 spans of years that each country had the highest growth rate\n",
    "def largest_growth_rate (data, country, period):\n",
    "    year = []\n",
    "    g_rate = 0.00\n",
    "    for i in range(len(country)-period):\n",
    "        rate = ((country[i+period] - country[i])/country[i]) * 100\n",
    "        if rate <= g_rate:\n",
    "            pass\n",
    "        else:\n",
    "            year.append((rate,(data.years[i], data.years[i+period])))\n",
    "    return sorted(year, reverse=True)[:3]\n",
    "        \n",
    "        \n",
    "        "
   ]
  },
  {
   "cell_type": "code",
   "execution_count": 12,
   "metadata": {
    "collapsed": false
   },
   "outputs": [
    {
     "data": {
      "text/plain": [
       "[(12.764704421539566, ('YR1999', 'YR2004')),\n",
       " (12.698134524553994, ('YR2000', 'YR2005')),\n",
       " (12.422979754684846, ('YR1998', 'YR2003'))]"
      ]
     },
     "execution_count": 12,
     "metadata": {},
     "output_type": "execute_result"
    }
   ],
   "source": [
    "'''For example, the top 3 span of 5 years that Sierra Leone experienced the highest growth rate is:'''\n",
    "largest_growth_rate(data,data.SLE, 5)"
   ]
  },
  {
   "cell_type": "code",
   "execution_count": 13,
   "metadata": {
    "collapsed": false
   },
   "outputs": [
    {
     "name": "stdout",
     "output_type": "stream",
     "text": [
      "BEN has 13.91% YR1963 - YR1973\n",
      "BFA has 19.62% YR1973 - YR1983\n",
      "CMR has 11.60% YR1967 - YR1977\n",
      "CIV has 19.00% YR1964 - YR1974\n",
      "GAB has 20.14% YR1964 - YR1974\n",
      "GHA has 8.71% YR1981 - YR1991\n",
      "GIN has 21.04% YR1979 - YR1989\n",
      "GNB has 9.92% YR1963 - YR1973\n",
      "LBR has 17.55% YR1968 - YR1978\n",
      "MLI has 22.53% YR1968 - YR1978\n",
      "MRT has 12.93% YR1960 - YR1970\n",
      "NGA has 10.81% YR1968 - YR1978\n",
      "NER has 15.52% YR2003 - YR2013\n",
      "STP has 10.81% YR1965 - YR1975\n",
      "SLE has 25.32% YR1998 - YR2008\n",
      "CPV has 12.62% YR1970 - YR1980\n",
      "GMB has 23.96% YR1966 - YR1976\n",
      "TGO has 15.55% YR1960 - YR1970\n"
     ]
    }
   ],
   "source": [
    "# Highest life expectancy growth rates over a period of 10 years per country\n",
    "for i in range(1,len(data.columns)):\n",
    "    country = data.columns[i]\n",
    "    rate1,rate2,rate3 = largest_growth_rate(data,data[data.columns[i]], 10)\n",
    "    \n",
    "    print ('{0} has {1:0.2f}% {2} - {3}'.format(country, rate1[0], rate1[1][0], rate1[1][1]))\n",
    "    "
   ]
  },
  {
   "cell_type": "markdown",
   "metadata": {},
   "source": [
    "#### It is obvious from this that West Africa's best years as regards Life Expectancy growth rate were in the 60's. The 90's and 80's look sad. To verify this, the average growth rate for each decade is taken."
   ]
  },
  {
   "cell_type": "code",
   "execution_count": 16,
   "metadata": {
    "collapsed": false
   },
   "outputs": [],
   "source": [
    "#function to get the average growth rate per decade of all countries\n",
    "def decade_growth_rate (data, period):\n",
    "    average_rates = []\n",
    "    \n",
    "    for i in range(0,len(data)-period,period):\n",
    "        rate = 0\n",
    "        for j in range(1,len(data.columns)):\n",
    "            rate += ((data[data.columns[j]][i+period] - data[data.columns[j]][i]) / data[data.columns[j]][i])*100\n",
    "        average_rates.append((data[data.columns[0]][i],rate/period))\n",
    "    return average_rates\n",
    "        "
   ]
  },
  {
   "cell_type": "code",
   "execution_count": 17,
   "metadata": {
    "collapsed": false
   },
   "outputs": [],
   "source": [
    "decades = decade_growth_rate(data,10)"
   ]
  },
  {
   "cell_type": "code",
   "execution_count": 18,
   "metadata": {
    "collapsed": false
   },
   "outputs": [
    {
     "data": {
      "text/plain": [
       "[('YR1960', 21.921631958604827),\n",
       " ('YR1970', 24.451777403478903),\n",
       " ('YR1980', 13.944846638627936),\n",
       " ('YR1990', 4.5893288952699267),\n",
       " ('YR2000', 15.940452647609661)]"
      ]
     },
     "execution_count": 18,
     "metadata": {},
     "output_type": "execute_result"
    }
   ],
   "source": [
    "decades"
   ]
  },
  {
   "cell_type": "code",
   "execution_count": 19,
   "metadata": {
    "collapsed": true
   },
   "outputs": [],
   "source": [
    "year_dec = []\n",
    "decade_rates = []\n",
    "for i in decades:\n",
    "    x,y = i\n",
    "    year_dec.append(x)\n",
    "    decade_rates.append(y)\n"
   ]
  },
  {
   "cell_type": "markdown",
   "metadata": {},
   "source": [
    "#### Let's make a bar chart to know see which decade had the highest average growth rate"
   ]
  },
  {
   "cell_type": "code",
   "execution_count": 20,
   "metadata": {
    "collapsed": false
   },
   "outputs": [
    {
     "data": {
      "text/plain": [
       "([<matplotlib.axis.XTick at 0x41d31f0>,\n",
       "  <matplotlib.axis.XTick at 0x41d7050>,\n",
       "  <matplotlib.axis.XTick at 0x47eb390>,\n",
       "  <matplotlib.axis.XTick at 0x482e550>,\n",
       "  <matplotlib.axis.XTick at 0x482eb30>],\n",
       " <a list of 5 Text xticklabel objects>)"
      ]
     },
     "execution_count": 20,
     "metadata": {},
     "output_type": "execute_result"
    },
    {
     "data": {
      "image/png": "[encoded data removed]",
      "text/plain": [
       "<matplotlib.figure.Figure at 0x47f1c10>"
      ]
     },
     "metadata": {},
     "output_type": "display_data"
    }
   ],
   "source": [
    "plt.figure (figsize=(10,8))\n",
    "plt.bar(np.arange(5), decade_rates, align='center')\n",
    "plt.xticks(np.arange(5),('60s', '70s', '80s', '90s', '2000'))"
   ]
  },
  {
   "cell_type": "markdown",
   "metadata": {
    "collapsed": false
   },
   "source": [
    "#### Discussion: So what really happened 80's and especially the 90's. Is it just a few countries that pulled the growth rate in life expectancy very low? First thought that came to my mind were the Civil Wars in Sierra Leone and Liberia but there were also Civil Wars in the 60s and 70s in Nigeria  and also some independence wars in Guinea Bissau.  You know, I might as well just have a plot of countries that experienced wars between 1960-2013 (Got the list from Wikipedia) to test my hypothesis that it was Civil Wars that caused the low growth rates in Life Expectancy in West Africa in the 80's and 90's"
   ]
  },
  {
   "cell_type": "markdown",
   "metadata": {
    "collapsed": true
   },
   "source": [
    "##### Countries that experienced wars betwenn 1960-2013 are G.Bissau, Nigeria, Mauritania, B.Faso, Liberia, S.Leone,Mali, I.Coast"
   ]
  },
  {
   "cell_type": "code",
   "execution_count": 21,
   "metadata": {
    "collapsed": false
   },
   "outputs": [
    {
     "data": {
      "text/plain": [
       "Index(['years', 'BEN', 'BFA', 'CMR', 'CIV', 'GAB', 'GHA', 'GIN', 'GNB', 'LBR',\n",
       "       'MLI', 'MRT', 'NGA', 'NER', 'STP', 'SLE', 'CPV', 'GMB', 'TGO'],\n",
       "      dtype='object')"
      ]
     },
     "execution_count": 21,
     "metadata": {},
     "output_type": "execute_result"
    }
   ],
   "source": [
    "data.columns"
   ]
  },
  {
   "cell_type": "code",
   "execution_count": 22,
   "metadata": {
    "collapsed": false
   },
   "outputs": [],
   "source": [
    "df_war = data[['years', 'BFA', 'CIV', 'GNB', 'LBR', 'MLI', 'MRT', 'NGA', 'SLE']]"
   ]
  },
  {
   "cell_type": "code",
   "execution_count": 23,
   "metadata": {
    "collapsed": true
   },
   "outputs": [],
   "source": [
    "trace_BFA = go.Scatter(x=data['years'], y=data['BFA'])\n",
    "trace_CIV = go.Scatter(x=data['years'], y=data['CIV'])\n",
    "trace_GNB = go.Scatter(x=data['years'], y=data['GNB'])\n",
    "trace_LBR = go.Scatter(x=data['years'], y=data['LBR'])\n",
    "trace_MLI = go.Scatter(x=data['years'], y=data['MLI'])\n",
    "#trace_MRT = go.Scatter(x=data['years'], y=data['MRT'])\n",
    "trace_NGA = go.Scatter(x=data['years'], y=data['NGA'])\n",
    "trace_SLE = go.Scatter(x=data['years'], y=data['SLE'])"
   ]
  },
  {
   "cell_type": "code",
   "execution_count": 24,
   "metadata": {
    "collapsed": false
   },
   "outputs": [
    {
     "name": "stdout",
     "output_type": "stream",
     "text": [
      "This is the format of your plot grid:\n",
      "[ (1,1) x1,y1 ]  [ (1,2) x2,y2 ]\n",
      "[ (2,1) x3,y3 ]  [ (2,2) x4,y4 ]\n",
      "[ (3,1) x5,y5 ]  [ (3,2) x6,y6 ]\n",
      "[ (4,1) x7,y7 ]  [ (4,2) x8,y8 ]\n",
      "\n"
     ]
    }
   ],
   "source": [
    "fig = tools.make_subplots(rows=4, cols=2, subplot_titles=(\"Burkina Faso (1985-'1988)\", \"Cote d'Ivoire (2002-2007, 2010-2011)\", \\\n",
    "                                                          \"Guinea Bissau (1962-1974, 1997-1999 )\", \"Liberia (1989-1996, 1999-2003)\",\\\n",
    "                                                          \"Mali (1985-1988, 1990-1995)\", \"Nigeria (1967-1970)\", \"Sierra Leone (1991-2002)\"))"
   ]
  },
  {
   "cell_type": "code",
   "execution_count": 30,
   "metadata": {
    "collapsed": true
   },
   "outputs": [],
   "source": [
    "fig['layout'].update(height=900, width=1000, title='Life Expectancy of West African Countries with Wars (1960-2013)' )\n",
    "                                                  "
   ]
  },
  {
   "cell_type": "code",
   "execution_count": 31,
   "metadata": {
    "collapsed": true
   },
   "outputs": [],
   "source": [
    "fig.append_trace(trace_BFA, 1, 1)\n",
    "fig.append_trace(trace_CIV, 1, 2)\n",
    "fig.append_trace(trace_GNB, 2, 1)\n",
    "fig.append_trace(trace_LBR, 2, 2)\n",
    "fig.append_trace(trace_MLI, 3, 1)\n",
    "#fig.append_trace(trace_MRT, 2, 2)\n",
    "fig.append_trace(trace_NGA, 3, 2)\n",
    "fig.append_trace(trace_SLE, 4, 1)\n"
   ]
  },
  {
   "cell_type": "code",
   "execution_count": 32,
   "metadata": {
    "collapsed": false
   },
   "outputs": [
    {
     "data": {
      "text/html": [
       "<iframe id=\"igraph\" scrolling=\"no\" style=\"border:none;\" seamless=\"seamless\" src=\"https://plot.ly/~chux/10.embed\" height=\"900px\" width=\"1000px\"></iframe>"
      ],
      "text/plain": [
       "<plotly.tools.PlotlyDisplay object>"
      ]
     },
     "execution_count": 32,
     "metadata": {},
     "output_type": "execute_result"
    }
   ],
   "source": [
    "py.iplot(fig, filename='war_west_africa')"
   ]
  },
  {
   "cell_type": "markdown",
   "metadata": {},
   "source": [
    "#### Many interesting trends are seen from the above subplots. Firstly, Sierra Leone took the deepest dives as regards life expectancy during the war period. It can be explained by the fact that they experienced the longest period of war (11 years). Even though Liberia also had 11 years of war, it was not as a stretch hence the relatively small dents in life expectancy growth rates. Guinea Bissau seems like an exception to my war hypothesis. They had a wars for 12 and 3 years respectively but their life expectancy kept on growing. The gowth rate for Guinea Bissau during the war between 1962 - 1974 might not be unusual because every country kept on growing in the 60's and 70's regardless of War (e,g. Nigeria). It is interesting to see that all the countries grew in the 60's and 70's regardless of war or not. I've got no hypothesis to pose to that though. Talking about Nigeria, despite the fact that the life expectancy rate grew during the Civil War (1967-1970) there was a lack of growth experienced from the early 80s to the late 90s. My best guess is to attribute this to the Military Regimes in power during those years. Yeah, West Africa had some really brutal leaders and I believe those regimes contributed to the lack of growth experienced in the region in the 80s and 90s."
   ]
  },
  {
   "cell_type": "markdown",
   "metadata": {
    "collapsed": false
   },
   "source": [
    "#### This little exploration left me with more questions than answers like why that huge slump in Cote d'Ivoire a couple years before the Civil War? What makes Guinea Bissau to still experience growth even amindst over a decade of war?Why did it take Bukina Faso so many years to recover from the war. We can see that the 3 year war ended in 1988 but it was almost until the dawn of the new millenium that the growth rate picked up. Will leave that for the historians to ponder on. As for the future work, will try some clustering analysis to see what features will cluster countries that were war-torn, countries with brutal regimes and countries never experienced a set back in the life expectancy growth rate in West Africa or Africa."
   ]
  },
  {
   "cell_type": "code",
   "execution_count": 41,
   "metadata": {
    "collapsed": false
   },
   "outputs": [
    {
     "data": {
      "text/plain": [
       "'https://plot.ly/~chux/10'"
      ]
     },
     "execution_count": 41,
     "metadata": {},
     "output_type": "execute_result"
    }
   ],
   "source": [
    "py.plot(fig, filename='war_west_africa')"
   ]
  },
  {
   "cell_type": "code",
   "execution_count": null,
   "metadata": {
    "collapsed": true
   },
   "outputs": [],
   "source": []
  }
 ],
 "metadata": {
  "kernelspec": {
   "display_name": "Python 3",
   "language": "python",
   "name": "python3"
  },
  "language_info": {
   "codemirror_mode": {
    "name": "ipython",
    "version": 3
   },
   "file_extension": ".py",
   "mimetype": "text/x-python",
   "name": "python",
   "nbconvert_exporter": "python",
   "pygments_lexer": "ipython3",
   "version": "3.4.3"
  }
 },
 "nbformat": 4,
 "nbformat_minor": 0
}
